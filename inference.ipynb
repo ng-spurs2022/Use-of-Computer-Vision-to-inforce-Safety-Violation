{
  "cells": [
    {
      "cell_type": "code",
      "execution_count": 1,
      "id": "4aae816c-4399-4a8d-9132-2335cfa4c20e",
      "metadata": {
        "id": "4aae816c-4399-4a8d-9132-2335cfa4c20e",
        "outputId": "659a2269-b7bf-4479-d472-b59d3ea619f6"
      },
      "outputs": [
        {
          "name": "stdout",
          "output_type": "stream",
          "text": [
            "/home/lokesh/anaconda3/envs/water_env/bin/python\n"
          ]
        }
      ],
      "source": [
        "import sys\n",
        "print(sys.executable)"
      ]
    },
    {
      "cell_type": "markdown",
      "id": "651b246d",
      "metadata": {},
      "source": [
        "## import libraries"
      ]
    },
    {
      "cell_type": "code",
      "execution_count": null,
      "id": "ea1f0dde-cf6d-46e2-8bc6-65ba56f1b490",
      "metadata": {
        "id": "ea1f0dde-cf6d-46e2-8bc6-65ba56f1b490",
        "outputId": "a3ebd7c0-ba2f-44de-ec3e-615d13d603f2"
      },
      "outputs": [],
      "source": [
        "import torch\n",
        "import os\n",
        "import sys\n",
        "import shutil\n",
        "import super_gradients\n",
        "from super_gradients.training import models"
      ]
    },
    {
      "cell_type": "code",
      "execution_count": null,
      "id": "f2e43cf4-bb42-4c70-9eb7-7ab614b9e927",
      "metadata": {
        "id": "f2e43cf4-bb42-4c70-9eb7-7ab614b9e927",
        "outputId": "1866038d-3724-4872-8c56-45b67e4b6527"
      },
      "outputs": [
        {
          "name": "stdout",
          "output_type": "stream",
          "text": [
            "cuda\n"
          ]
        }
      ],
      "source": [
        "device = 'cuda' if torch.cuda.is_available() else \"cpu\"\n",
        "print(device)"
      ]
    },
    {
      "cell_type": "markdown",
      "id": "51f1c1b3",
      "metadata": {},
      "source": [
        "## classes"
      ]
    },
    {
      "cell_type": "code",
      "execution_count": null,
      "id": "a65f3aab-7745-4f6d-a59f-199e743587b1",
      "metadata": {
        "id": "a65f3aab-7745-4f6d-a59f-199e743587b1"
      },
      "outputs": [],
      "source": [
        "classes = ['fire', 'helmet', 'person', 'spillage', 'vest']"
      ]
    },
    {
      "cell_type": "markdown",
      "id": "cb0b7e79-af98-414f-bbd8-c10ca10b1811",
      "metadata": {
        "id": "cb0b7e79-af98-414f-bbd8-c10ca10b1811"
      },
      "source": [
        "## load the model"
      ]
    },
    {
      "cell_type": "code",
      "execution_count": null,
      "id": "ebc5896b-c087-41c0-be1a-0798e4fd4522",
      "metadata": {
        "id": "ebc5896b-c087-41c0-be1a-0798e4fd4522",
        "outputId": "516a5913-3e0d-4e9b-c321-09d8e5ddb834"
      },
      "outputs": [
        {
          "name": "stderr",
          "output_type": "stream",
          "text": [
            "[2024-06-19 17:58:43] INFO - checkpoint_utils.py - Successfully loaded model weights from checkpoints/V4_run_75/ckpt_best.pth EMA checkpoint.\n"
          ]
        }
      ],
      "source": [
        "best_model = models.get('yolo_nas_s',\n",
        "                        num_classes=len(classes),\n",
        "                        checkpoint_path=\"model/ckpt_best.pth\")"
      ]
    },
    {
      "cell_type": "markdown",
      "id": "9f23933f",
      "metadata": {},
      "source": [
        "## prediction"
      ]
    },
    {
      "cell_type": "code",
      "execution_count": null,
      "id": "577dd4ad-2d30-4b9d-b615-18e56bb2d093",
      "metadata": {
        "id": "577dd4ad-2d30-4b9d-b615-18e56bb2d093"
      },
      "outputs": [],
      "source": [
        "input_image = \"test.jpg\"\n",
        "output_image = \"output.jpsg\"\n",
        "\n",
        "model_pred = best_model.to(device).predict(input_image,conf=0.60)\n",
        "model_pred.save(output_image)\n",
        "model_pred.show()"
      ]
    },
    {
      "cell_type": "code",
      "execution_count": null,
      "id": "d50319b6-46e6-4dd8-8cbf-7f28bb59f049",
      "metadata": {
        "collapsed": true,
        "id": "d50319b6-46e6-4dd8-8cbf-7f28bb59f049",
        "outputId": "fecd6cd0-b1b6-4766-c3e7-a59c3cf2a1db"
      },
      "outputs": [
        {
          "data": {
            "text/plain": [
              "DetectionPrediction(bboxes_xyxy=array([[282.88245, 420.96988, 296.65952, 454.2848 ],\n",
              "       [281.868  , 408.12677, 298.79944, 492.9691 ],\n",
              "       [246.48415, 395.43796, 260.36426, 477.0118 ],\n",
              "       [307.85577, 416.29242, 324.0801 , 499.07242],\n",
              "       [265.8255 , 410.69205, 279.95746, 492.2694 ],\n",
              "       [299.48422, 391.27618, 314.36154, 481.81967],\n",
              "       [319.2016 , 388.68604, 333.02176, 465.37106],\n",
              "       [310.72034, 428.25546, 322.9687 , 461.30948],\n",
              "       [320.76358, 401.63623, 331.68375, 429.17413],\n",
              "       [312.6736 , 416.17236, 319.05524, 426.21494],\n",
              "       [260.71265, 385.45856, 273.6863 , 418.34125],\n",
              "       [247.39267, 407.46164, 256.79047, 430.4608 ],\n",
              "       [258.4182 , 406.3441 , 269.845  , 481.5502 ],\n",
              "       [269.25806, 409.48816, 276.49747, 421.70782],\n",
              "       [247.1311 , 394.805  , 254.01425, 405.06165],\n",
              "       [301.0441 , 403.5701 , 311.12723, 428.96634],\n",
              "       [265.8241 , 423.186  , 277.56482, 446.03293],\n",
              "       [284.38794, 379.9421 , 298.03928, 421.3134 ],\n",
              "       [300.99863, 391.0489 , 309.56717, 402.7267 ],\n",
              "       [286.87173, 380.09998, 292.76907, 389.4521 ],\n",
              "       [261.02512, 407.76334, 268.232  , 418.57068],\n",
              "       [286.41504, 392.76477, 296.12546, 415.63654],\n",
              "       [322.03317, 387.90897, 328.72855, 399.00977]], dtype=float32), confidence=array([0.9035392 , 0.8947463 , 0.8715238 , 0.8479706 , 0.8476519 ,\n",
              "       0.8295061 , 0.82542163, 0.8228456 , 0.81468177, 0.80403435,\n",
              "       0.7777705 , 0.77106833, 0.761063  , 0.7532714 , 0.7450762 ,\n",
              "       0.73261327, 0.71379167, 0.68337226, 0.6723977 , 0.65502554,\n",
              "       0.6435071 , 0.63664705, 0.6230781 ], dtype=float32), labels=array([4., 2., 2., 2., 2., 2., 2., 4., 4., 1., 2., 4., 2., 1., 1., 4., 4.,\n",
              "       2., 1., 1., 1., 4., 1.], dtype=float32))"
            ]
          },
          "execution_count": 7,
          "metadata": {},
          "output_type": "execute_result"
        }
      ],
      "source": [
        "input_image = \"test.jpg\"\n",
        "output_image = \"output.jpg\"\n",
        "\n",
        "model_pred = best_model.to(device).predict(input_image,conf=0.60)\n",
        "predictions_list = list(model_pred)\n",
        "prediction = predictions_list[0].prediction\n",
        "\n",
        "bboxes = prediction.bboxes_xyxy\n",
        "class_name_indexes = prediction.labels.astype(int)\n",
        "confidences =  prediction.confidence.astype(float)\n",
        "\n",
        "#prediction\n",
        "model_pred.save(output_image)\n",
        "model_pred.show()\n"
      ]
    }
  ],
  "metadata": {
    "colab": {
      "provenance": [],
      "toc_visible": true
    },
    "kernelspec": {
      "display_name": "water_env",
      "language": "python",
      "name": "python3"
    },
    "language_info": {
      "codemirror_mode": {
        "name": "ipython",
        "version": 3
      },
      "file_extension": ".py",
      "mimetype": "text/x-python",
      "name": "python",
      "nbconvert_exporter": "python",
      "pygments_lexer": "ipython3",
      "version": "3.11.4"
    }
  },
  "nbformat": 4,
  "nbformat_minor": 5
}
